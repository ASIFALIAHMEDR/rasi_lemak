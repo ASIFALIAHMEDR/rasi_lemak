{
  "nbformat": 4,
  "nbformat_minor": 0,
  "metadata": {
    "colab": {
      "provenance": [],
      "authorship_tag": "ABX9TyP3q7alwT8chrW+m/RRCZzT"
    },
    "kernelspec": {
      "name": "python3",
      "display_name": "Python 3"
    },
    "language_info": {
      "name": "python"
    }
  },
  "cells": [
    {
      "cell_type": "markdown",
      "source": [
        "This cell focusses on calculating your mulank based on numerology!"
      ],
      "metadata": {
        "id": "QY57VOqexDXG"
      }
    },
    {
      "cell_type": "code",
      "execution_count": 19,
      "metadata": {
        "colab": {
          "base_uri": "https://localhost:8080/"
        },
        "id": "P_83HvxLS4n7",
        "outputId": "e718f1ed-77dc-498e-9c24-0248a4610d11"
      },
      "outputs": [
        {
          "output_type": "stream",
          "name": "stdout",
          "text": [
            "Enter your name to find your mulank:brose khan bibi a\n",
            "The sum for 'Asif ali ahmed' is: 39\n",
            "Further Analysing your mulank\n",
            "The mulank for 'Asif ali ahmed' is: 3\n"
          ]
        }
      ],
      "source": [
        "\n",
        "def getSum(n):\n",
        "\n",
        "    sum = 0\n",
        "    for digit in str(n):\n",
        "      sum += int(digit)\n",
        "    return sum\n",
        "\n",
        "def calculate_word_sum(text, weights):\n",
        "    if not isinstance(text, str) or not isinstance(weights, dict):\n",
        "        return 0  # Handle invalid inputs\n",
        "\n",
        "    text = text.lower() # to handle cases\n",
        "    total_sum = 0\n",
        "\n",
        "    for char in text:\n",
        "        if char in weights:\n",
        "            total_sum += weights[char]\n",
        "\n",
        "    return total_sum\n",
        "\n",
        "# Example Usage\n",
        "weights_dict = {\n",
        "    'a': 1, 'b': 2, 'c': 3, 'd': 4, 'e': 5, 'f': 8, 'g': 3, 'h': 5, 'i': 1, 'j': 1,\n",
        "    'k': 2, 'l': 2, 'm': 4, 'n': 5, 'o': 7, 'p': 8, 'q': 1, 'r': 2, 's': 3,\n",
        "    't': 4, 'u': 6, 'v': 6, 'w': 6, 'x': 5, 'y': 1, 'z': 7\n",
        "}\n",
        "\n",
        "word = input(\"Enter your name to find your mulank:\")\n",
        "\n",
        "word_sum = calculate_word_sum(word, weights_dict)\n",
        "print(f\"The sum for '{word}' is: {word_sum}\")  # Output: The sum for 'bad' is: 6\n",
        "\n",
        "if(word_sum > 9):\n",
        "    print(\"Further Analysing your mulank\")\n",
        "    final_sum = getSum(word_sum)\n",
        "    if(final_sum > 9):\n",
        "      final_sum = getSum(final_sum)\n",
        "    print(f\"The mulank for '{word}' is: {final_sum}\")\n",
        "else:\n",
        "    print(f\"The mulank for '{word}' is: {word_sum}\")\n"
      ]
    },
    {
      "cell_type": "code",
      "source": [
        "pip install pyswisseph\n"
      ],
      "metadata": {
        "colab": {
          "base_uri": "https://localhost:8080/"
        },
        "id": "Wm7d_rL3X2IT",
        "outputId": "3d8d5683-5068-4c83-b3aa-24b1ec9009f1"
      },
      "execution_count": 21,
      "outputs": [
        {
          "output_type": "stream",
          "name": "stdout",
          "text": [
            "Collecting pyswisseph\n",
            "  Downloading pyswisseph-2.10.3.2-cp310-cp310-manylinux_2_17_x86_64.manylinux2014_x86_64.whl.metadata (1.9 kB)\n",
            "Downloading pyswisseph-2.10.3.2-cp310-cp310-manylinux_2_17_x86_64.manylinux2014_x86_64.whl (1.8 MB)\n",
            "\u001b[2K   \u001b[90m━━━━━━━━━━━━━━━━━━━━━━━━━━━━━━━━━━━━━━━━\u001b[0m \u001b[32m1.8/1.8 MB\u001b[0m \u001b[31m17.5 MB/s\u001b[0m eta \u001b[36m0:00:00\u001b[0m\n",
            "\u001b[?25hInstalling collected packages: pyswisseph\n",
            "Successfully installed pyswisseph-2.10.3.2\n"
          ]
        }
      ]
    },
    {
      "cell_type": "code",
      "source": [
        "pip install datetime"
      ],
      "metadata": {
        "colab": {
          "base_uri": "https://localhost:8080/"
        },
        "id": "cLk3pbBCX-xS",
        "outputId": "e7404d5c-db44-494d-86b2-5421c979f0c5"
      },
      "execution_count": 22,
      "outputs": [
        {
          "output_type": "stream",
          "name": "stdout",
          "text": [
            "Collecting datetime\n",
            "  Downloading DateTime-5.5-py3-none-any.whl.metadata (33 kB)\n",
            "Collecting zope.interface (from datetime)\n",
            "  Downloading zope.interface-7.2-cp310-cp310-manylinux_2_5_x86_64.manylinux1_x86_64.manylinux_2_17_x86_64.manylinux2014_x86_64.whl.metadata (44 kB)\n",
            "\u001b[2K     \u001b[90m━━━━━━━━━━━━━━━━━━━━━━━━━━━━━━━━━━━━━━━━\u001b[0m \u001b[32m44.4/44.4 kB\u001b[0m \u001b[31m1.8 MB/s\u001b[0m eta \u001b[36m0:00:00\u001b[0m\n",
            "\u001b[?25hRequirement already satisfied: pytz in /usr/local/lib/python3.10/dist-packages (from datetime) (2024.2)\n",
            "Requirement already satisfied: setuptools in /usr/local/lib/python3.10/dist-packages (from zope.interface->datetime) (75.1.0)\n",
            "Downloading DateTime-5.5-py3-none-any.whl (52 kB)\n",
            "\u001b[2K   \u001b[90m━━━━━━━━━━━━━━━━━━━━━━━━━━━━━━━━━━━━━━━━\u001b[0m \u001b[32m52.6/52.6 kB\u001b[0m \u001b[31m3.3 MB/s\u001b[0m eta \u001b[36m0:00:00\u001b[0m\n",
            "\u001b[?25hDownloading zope.interface-7.2-cp310-cp310-manylinux_2_5_x86_64.manylinux1_x86_64.manylinux_2_17_x86_64.manylinux2014_x86_64.whl (254 kB)\n",
            "\u001b[2K   \u001b[90m━━━━━━━━━━━━━━━━━━━━━━━━━━━━━━━━━━━━━━━━\u001b[0m \u001b[32m254.5/254.5 kB\u001b[0m \u001b[31m9.1 MB/s\u001b[0m eta \u001b[36m0:00:00\u001b[0m\n",
            "\u001b[?25hInstalling collected packages: zope.interface, datetime\n",
            "Successfully installed datetime-5.5 zope.interface-7.2\n"
          ]
        }
      ]
    },
    {
      "cell_type": "code",
      "source": [
        "import swisseph as swe\n",
        "import datetime\n",
        "\n",
        "def calculate_planetary_positions(dob):\n",
        "    \"\"\"\n",
        "    Calculate planetary positions in the zodiac based on the date of birth.\n",
        "    \"\"\"\n",
        "    # Convert date of birth to Julian date\n",
        "    jd_ut = swe.julday(dob.year, dob.month, dob.day, dob.hour + dob.minute / 60.0)\n",
        "    print(f\"The julian date for '{dob}' is: {jd_ut}\")\n",
        "\n",
        "    # Planets positions\n",
        "    planets = {\n",
        "        'Sun': swe.SUN,\n",
        "        'Moon': swe.MOON,\n",
        "        'Mars': swe.MARS,\n",
        "        'Mercury': swe.MERCURY,\n",
        "        'Jupiter': swe.JUPITER,\n",
        "        'Venus': swe.VENUS,\n",
        "        'Saturn': swe.SATURN,\n",
        "        'Rahu': swe.TRUE_NODE,\n",
        "        'Ketu': swe.MEAN_NODE\n",
        "    }\n",
        "\n",
        "    positions = {}\n",
        "    for planet, planet_id in planets.items():\n",
        "        planet_position, _ = swe.calc(jd_ut, planet_id)\n",
        "        positions[planet] = planet_position[0]  # Extract the longitude\n",
        "\n",
        "    return positions\n",
        "\n",
        "def calculate_lagna(dob, lat=12.9716, lon=77.5946):\n",
        "    \"\"\"\n",
        "    Calculate the Ascendant (Lagna) based on the date of birth and location (latitude, longitude).\n",
        "    \"\"\"\n",
        "    jd_ut = swe.julday(dob.year, dob.month, dob.day, dob.hour + dob.minute / 60.0)\n",
        "\n",
        "    # Calculate houses based on the Julian date and birth location\n",
        "    # The 2nd argument is latitude, 3rd is longitude, 4th is house system ('P' for Placidus)\n",
        "    houses, _ = swe.houses(jd_ut, lat, lon, b'P')\n",
        "\n",
        "    # Return the position of the Ascendant (Lagna)\n",
        "    return houses[0]  # Ascendant is the first house's cusp\n",
        "\n",
        "def print_vedic_chart(dob):\n",
        "    \"\"\"\n",
        "    Print the Vedic astrology chart based on the given date of birth.\n",
        "    \"\"\"\n",
        "    # Calculate planetary positions and Ascendant\n",
        "    positions = calculate_planetary_positions(dob)\n",
        "    lagna = calculate_lagna(dob)\n",
        "\n",
        "    print(f\"Vedic Chart for Date of Birth: {dob.strftime('%Y-%m-%d %H:%M:%S')}\")\n",
        "    print(f\"Ascendant (Lagna) Position: {lagna:.2f}°\")\n",
        "    print(\"\\nPlanetary Positions (Longitude in Zodiac):\")\n",
        "\n",
        "    for planet, position in positions.items():\n",
        "        print(f\"{planet}: {position:.2f}°\")\n",
        "\n",
        "# Example usage\n",
        "dob_input = \"2001-02-19 19:30:00\"  # Example date of birth (yyyy-mm-dd hh:mm:ss)\n",
        "dob = datetime.datetime.strptime(dob_input, \"%Y-%m-%d %H:%M:%S\")\n",
        "print_vedic_chart(dob)\n"
      ],
      "metadata": {
        "colab": {
          "base_uri": "https://localhost:8080/"
        },
        "id": "PqosdT09ZqLc",
        "outputId": "bf877afd-3b34-4584-e2dc-de52c3189c7d"
      },
      "execution_count": 28,
      "outputs": [
        {
          "output_type": "stream",
          "name": "stdout",
          "text": [
            "The julian date for '2001-02-19 19:30:00' is: 2451960.3125\n",
            "Vedic Chart for Date of Birth: 2001-02-19 19:30:00\n",
            "Ascendant (Lagna) Position: 246.57°\n",
            "\n",
            "Planetary Positions (Longitude in Zodiac):\n",
            "Sun: 331.22°\n",
            "Moon: 292.93°\n",
            "Mars: 242.58°\n",
            "Mercury: 317.45°\n",
            "Jupiter: 62.27°\n",
            "Venus: 12.42°\n",
            "Saturn: 54.68°\n",
            "Rahu: 104.77°\n",
            "Ketu: 103.05°\n"
          ]
        }
      ]
    }
  ]
}
